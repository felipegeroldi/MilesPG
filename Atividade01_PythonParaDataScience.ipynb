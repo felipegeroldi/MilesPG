{
  "nbformat": 4,
  "nbformat_minor": 0,
  "metadata": {
    "colab": {
      "provenance": [],
      "collapsed_sections": [],
      "authorship_tag": "ABX9TyMr8sCNR840NIvXgpxV7VHs"
    },
    "kernelspec": {
      "name": "python3",
      "display_name": "Python 3"
    },
    "language_info": {
      "name": "python"
    }
  },
  "cells": [
    {
      "cell_type": "markdown",
      "source": [
        "Atividade\n",
        "\n",
        "1.   Exibir uma lista de consumo por marcas.\n",
        "2.   Qual marca é mais economica?\n",
        "3.   Qual marca consome mais?\n",
        "4.   Qual a média de consumo geral entre todas as marcas?"
      ],
      "metadata": {
        "id": "eEu2-LAMCfRH"
      }
    },
    {
      "cell_type": "code",
      "execution_count": null,
      "metadata": {
        "id": "Fpe2icy3CbOn"
      },
      "outputs": [],
      "source": [
        "# Leitura do arquivo csv\n",
        "import csv\n",
        "\n",
        "\n",
        "%precision 2\n",
        "\n",
        "\n",
        "with open('mpg.csv') as vehiclesCsvFile:\n",
        "  vehicles = list(csv.DictReader(vehiclesCsvFile))"
      ]
    },
    {
      "cell_type": "code",
      "source": [
        "# Obtendo as marcas\n",
        "brands = set([vehicle['name'].split(' ')[0].lower() for vehicle in vehicles])\n",
        "brands"
      ],
      "metadata": {
        "colab": {
          "base_uri": "https://localhost:8080/"
        },
        "id": "F8ZG4C7zDJUI",
        "outputId": "02d62994-feeb-4169-8d03-8f74c6f3b682"
      },
      "execution_count": null,
      "outputs": [
        {
          "output_type": "execute_result",
          "data": {
            "text/plain": [
              "{'amc',\n",
              " 'audi',\n",
              " 'bmw',\n",
              " 'buick',\n",
              " 'cadillac',\n",
              " 'capri',\n",
              " 'chevroelt',\n",
              " 'chevrolet',\n",
              " 'chevy',\n",
              " 'chrysler',\n",
              " 'datsun',\n",
              " 'dodge',\n",
              " 'fiat',\n",
              " 'ford',\n",
              " 'hi',\n",
              " 'honda',\n",
              " 'maxda',\n",
              " 'mazda',\n",
              " 'mercedes',\n",
              " 'mercedes-benz',\n",
              " 'mercury',\n",
              " 'nissan',\n",
              " 'oldsmobile',\n",
              " 'opel',\n",
              " 'peugeot',\n",
              " 'plymouth',\n",
              " 'pontiac',\n",
              " 'renault',\n",
              " 'saab',\n",
              " 'subaru',\n",
              " 'toyota',\n",
              " 'toyouta',\n",
              " 'triumph',\n",
              " 'vokswagen',\n",
              " 'volkswagen',\n",
              " 'volvo',\n",
              " 'vw'}"
            ]
          },
          "metadata": {},
          "execution_count": 4
        }
      ]
    },
    {
      "cell_type": "code",
      "source": [
        "# Lista de consumo por marcas\n",
        "cons = {}\n",
        "for brand in brands:\n",
        "  vehiclesBrand = [vehicle for vehicle in vehicles if brand in vehicle['name']]\n",
        "  con = sum([float(vehicle['mpg']) for vehicle in vehiclesBrand]) / len(vehiclesBrand)\n",
        "  cons[brand] = con\n",
        "\n",
        "print(\"Média de consumo por marcas: \")\n",
        "for cons_per_brand in cons.items():\n",
        "  print(\"{} - {}\".format(cons_per_brand[0], cons_per_brand[1]))"
      ],
      "metadata": {
        "colab": {
          "base_uri": "https://localhost:8080/"
        },
        "id": "BsVl5npDDsLO",
        "outputId": "91a00aeb-4e01-44f1-b779-dbf1f7956b5b"
      },
      "execution_count": null,
      "outputs": [
        {
          "output_type": "stream",
          "name": "stdout",
          "text": [
            "Média de consumo por marcas: \n",
            "chevroelt - 16.0\n",
            "mercedes-benz - 23.25\n",
            "vokswagen - 29.8\n",
            "renault - 32.88\n",
            "datsun - 31.11304347826087\n",
            "chrysler - 17.266666666666666\n",
            "maxda - 26.05\n",
            "cadillac - 19.75\n",
            "dodge - 22.060714285714283\n",
            "vw - 39.016666666666666\n",
            "audi - 26.714285714285715\n",
            "plymouth - 21.703225806451616\n",
            "hi - 15.733333333333334\n",
            "triumph - 35.0\n",
            "mazda - 30.859999999999996\n",
            "buick - 19.182352941176468\n",
            "chevy - 18.0\n",
            "volvo - 21.116666666666667\n",
            "subaru - 30.525\n",
            "pontiac - 20.0125\n",
            "volkswagen - 29.10666666666667\n",
            "saab - 23.9\n",
            "ford - 19.694117647058825\n",
            "toyota - 28.372000000000003\n",
            "peugeot - 23.687499999999996\n",
            "capri - 19.416666666666668\n",
            "mercury - 19.11818181818182\n",
            "mercedes - 23.96666666666667\n",
            "opel - 26.6\n",
            "oldsmobile - 21.1\n",
            "honda - 33.76153846153846\n",
            "toyouta - 23.0\n",
            "amc - 18.24642857142857\n",
            "nissan - 36.0\n",
            "bmw - 23.75\n",
            "fiat - 28.9125\n",
            "chevrolet - 20.472093023255816\n"
          ]
        }
      ]
    },
    {
      "cell_type": "code",
      "source": [
        "# Qual marca é mais economica?\n",
        "con_lower = sorted(cons.items(), key=lambda x: x[1])[0]\n",
        "print(\"Marca mais economica: {}\".format(con_lower[0]))"
      ],
      "metadata": {
        "colab": {
          "base_uri": "https://localhost:8080/"
        },
        "id": "IWX-ZmX1F0d_",
        "outputId": "97fec56c-2e10-4fe8-8655-cd65652e2026"
      },
      "execution_count": null,
      "outputs": [
        {
          "output_type": "stream",
          "name": "stdout",
          "text": [
            "Marca mais economica: hi\n"
          ]
        }
      ]
    },
    {
      "cell_type": "code",
      "source": [
        "# Qual marca consome mais?\n",
        "con_higher = sorted(cons.items(), key=lambda x: x[1], reverse=True)[0]\n",
        "print(\"Marca que mais consome: {}\".format(con_higher[0]))"
      ],
      "metadata": {
        "colab": {
          "base_uri": "https://localhost:8080/"
        },
        "id": "G7SyFwXFGdPF",
        "outputId": "4079982b-7f26-46b4-b29d-7f3ded765126"
      },
      "execution_count": null,
      "outputs": [
        {
          "output_type": "stream",
          "name": "stdout",
          "text": [
            "Marca que mais consome: vw\n"
          ]
        }
      ]
    },
    {
      "cell_type": "code",
      "source": [
        "# Média de consumo geral entre todas as marcas\n",
        "cons_general = sum([float(con[1]) for con in cons.items()]) / len(cons)\n",
        "print(\"Consumo geral entre todas as marcas: {}\".format(cons_general))"
      ],
      "metadata": {
        "colab": {
          "base_uri": "https://localhost:8080/"
        },
        "id": "bs40iIIdGl2l",
        "outputId": "3b0abd5e-0218-457c-fde5-6731414b3c66"
      },
      "execution_count": null,
      "outputs": [
        {
          "output_type": "stream",
          "name": "stdout",
          "text": [
            "Consumo geral entre todas as marcas: 24.733481488667184\n"
          ]
        }
      ]
    }
  ]
}